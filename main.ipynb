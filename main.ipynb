{
 "cells": [
  {
   "cell_type": "code",
   "execution_count": 8,
   "metadata": {},
   "outputs": [],
   "source": [
    "\n",
    "from langchain_community.embeddings import SentenceTransformerEmbeddings\n",
    "from langchain_chroma import Chroma\n",
    "from langchain_community.document_loaders import PyPDFLoader\n",
    "from langchain_community.embeddings import SentenceTransformerEmbeddings\n",
    "from langchain.prompts import PromptTemplate\n",
    "from langchain.chains import RetrievalQA\n",
    "from langchain_groq import ChatGroq\n",
    "from dotenv import load_dotenv\n",
    "from langchain_ollama import ChatOllama\n",
    "load_dotenv()\n",
    "import json"
   ]
  },
  {
   "cell_type": "code",
   "execution_count": 154,
   "metadata": {},
   "outputs": [],
   "source": [
    "llm = ChatGroq(model_name=\"Llama3-8b-8192\")\n",
    "import requests\n",
    "\n",
    "def get_weather(latitude, longitude):\n",
    "    \"\"\"This is a publically available API that returns the weather for a given location.\"\"\"\n",
    "    response = requests.get(\n",
    "        f\"https://api.open-meteo.com/v1/forecast?latitude={latitude}&longitude={longitude}&current=temperature_2m,wind_speed_10m&hourly=temperature_2m,relative_humidity_2m,wind_speed_10m\"\n",
    "    )\n",
    "    data = response.json()\n",
    "    return data[\"current\"]\n",
    "\n",
    "def tool(fun_name, description, parameters):\n",
    "    return {\n",
    "        \"name\": fun_name,\n",
    "        \"description\": description,\n",
    "        \"parameters\": parameters\n",
    "    }\n",
    "    \n",
    "\n",
    "def get_output(llm,input_text, tools):\n",
    "    prompt = f\"\"\"You are helpfull assistant that will help the users question and analyse it. if it requires the function then it should use that tool.try to find parameters and then use the tool to get the output. \n",
    "    Question: {input_text}\n",
    "    tools: {tools}\n",
    "    \"\"\"\n",
    "    ans = llm.invoke(prompt)\n",
    "    return ans.content\n",
    "\n",
    "\n"
   ]
  },
  {
   "cell_type": "code",
   "execution_count": null,
   "metadata": {},
   "outputs": [],
   "source": []
  },
  {
   "cell_type": "code",
   "execution_count": 155,
   "metadata": {},
   "outputs": [],
   "source": [
    "def get_weather(latitude, longitude):\n",
    "    \"\"\"This is a publically available API that returns the weather for a given location.\"\"\"\n",
    "    response = requests.get(\n",
    "        f\"https://api.open-meteo.com/v1/forecast?latitude={latitude}&longitude={longitude}&current=temperature_2m,wind_speed_10m&hourly=temperature_2m,relative_humidity_2m,wind_speed_10m\"\n",
    "    )\n",
    "    data = response.json()\n",
    "    return data[\"current\"]"
   ]
  },
  {
   "cell_type": "code",
   "execution_count": 156,
   "metadata": {},
   "outputs": [],
   "source": [
    "def summation(number1, number2):\n",
    "    return sum([number1, number2])"
   ]
  },
  {
   "cell_type": "code",
   "execution_count": null,
   "metadata": {},
   "outputs": [],
   "source": []
  },
  {
   "cell_type": "code",
   "execution_count": 157,
   "metadata": {},
   "outputs": [],
   "source": [
    "tools = {\n",
    "    \"get_weather\": {\n",
    "        \"function\": get_weather,\n",
    "        \"description\": \"Returns weather details for a given latitude and longitude.\",\n",
    "        \"parameters\": [\"latitude\", \"longitude\"]\n",
    "    },\n",
    "\n",
    "    \"summation\": {\n",
    "        \"function\": summation,\n",
    "        \"description\": \"Returns the sum of two numbers.\",\n",
    "        \"parameters\": [\"number1\", \"number2\"]\n",
    "    }\n",
    "    \n",
    "}\n",
    "\n"
   ]
  },
  {
   "cell_type": "code",
   "execution_count": 158,
   "metadata": {},
   "outputs": [
    {
     "data": {
      "text/plain": [
       "{'get_weather': <function __main__.get_weather(latitude, longitude)>,\n",
       " 'summation': <function __main__.summation(number1, number2)>}"
      ]
     },
     "execution_count": 158,
     "metadata": {},
     "output_type": "execute_result"
    }
   ],
   "source": [
    "arguments = {k: v[\"function\"] for k, v in tools.items()}\n",
    "arguments"
   ]
  },
  {
   "cell_type": "code",
   "execution_count": 159,
   "metadata": {},
   "outputs": [
    {
     "data": {
      "text/plain": [
       "{'get_weather': ['latitude', 'longitude'], 'summation': ['number1', 'number2']}"
      ]
     },
     "execution_count": 159,
     "metadata": {},
     "output_type": "execute_result"
    }
   ],
   "source": [
    "arguments = {k: v[\"parameters\"] for k, v in tools.items()}\n",
    "arguments"
   ]
  },
  {
   "cell_type": "code",
   "execution_count": 160,
   "metadata": {},
   "outputs": [
    {
     "data": {
      "text/plain": [
       "{'{\\n  \"get_weather\": [\\n    \"latitude\",\\n    \"longitude\"\\n  ],\\n  \"summation\": [\\n    \"number1\",\\n    \"number2\"\\n  ]\\n}'}"
      ]
     },
     "execution_count": 160,
     "metadata": {},
     "output_type": "execute_result"
    }
   ],
   "source": [
    "{json.dumps({k: v[\"parameters\"] for k, v in tools.items()}, indent=2)}"
   ]
  },
  {
   "cell_type": "code",
   "execution_count": 161,
   "metadata": {},
   "outputs": [
    {
     "data": {
      "text/plain": [
       "{'{\\n  \"get_weather\": \"Returns weather details for a given latitude and longitude.\",\\n  \"summation\": \"Returns the sum of two numbers.\"\\n}'}"
      ]
     },
     "execution_count": 161,
     "metadata": {},
     "output_type": "execute_result"
    }
   ],
   "source": [
    "{json.dumps({k: v[\"description\"] for k, v in tools.items()}, indent=2)}"
   ]
  },
  {
   "cell_type": "code",
   "execution_count": 162,
   "metadata": {},
   "outputs": [],
   "source": [
    "from pydantic import BaseModel, Field\n",
    "from typing import Dict, Any, Optional\n",
    "import json\n",
    "\n",
    "from langchain_core.output_parsers import JsonOutputParser\n",
    "from langchain_core.prompts import PromptTemplate\n",
    "from langchain_core.pydantic_v1 import BaseModel, Field\n",
    "\n",
    "\n",
    "class ToolCallResponse(BaseModel):\n",
    "    use_tool: bool = Field(..., description=\"Indicates if a function call is required\")\n",
    "    response: Optional[str] = Field(None, description=\"Assistant's direct response if no tool is required\")\n",
    "    function: Optional[str] = Field(None, description=\"Function name to call if needed\")\n",
    "    args: Optional[Dict[str, Any]] = Field(None, description=\"Arguments for the function call\")\n",
    "    \n",
    "\n",
    "# Set up a parser + inject instructions into the prompt template.\n",
    "parser = JsonOutputParser(pydantic_object=ToolCallResponse)\n",
    "\n",
    "def get_output(llm, input_text, tools):\n",
    "    tools_json = json.dumps({k: v[\"description\"] for k, v in tools.items()}, indent=2)\n",
    "    arguments = {k: v[\"parameters\"] for k, v in tools.items()}\n",
    "    \n",
    "    template = \"\"\"\n",
    "    You are a helpful assistant. Determine if the user's question requires a function call only when needed.\n",
    "    Apply your knowledge and try to find the parameters required for the function.\n",
    "\n",
    "    input_text: {input_text}\n",
    "    Available tools: {tools}\n",
    "    parameters required for functions:{args}\n",
    "    \n",
    "    {format_instructions}\n",
    "    \"\"\"\n",
    "\n",
    "    prompt = PromptTemplate(\n",
    "        template=template,\n",
    "        input_variables=[\"input_text\", \"tools\", \"args\"],\n",
    "        partial_variables={\"format_instructions\": parser.get_format_instructions()},\n",
    "    )\n",
    "\n",
    "    chain = prompt | llm | parser\n",
    "\n",
    "    return chain.invoke({\"input_text\": input_text, \"tools\": tools_json, \"args\": arguments})"
   ]
  },
  {
   "cell_type": "code",
   "execution_count": 163,
   "metadata": {},
   "outputs": [
    {
     "data": {
      "text/plain": [
       "{'use_tool': True,\n",
       " 'response': '',\n",
       " 'function': 'get_weather',\n",
       " 'args': {'latitude': 18.975, 'longitude': 72.8254}}"
      ]
     },
     "execution_count": 163,
     "metadata": {},
     "output_type": "execute_result"
    }
   ],
   "source": [
    "a = get_output(llm, \"what is the currend whether in mumbai\", tools)\n",
    "a"
   ]
  },
  {
   "cell_type": "code",
   "execution_count": 164,
   "metadata": {},
   "outputs": [],
   "source": [
    "function = tools[a[\"function\"]][\"function\"]\n",
    "args = a[\"args\"]\n",
    "output = function(**args)"
   ]
  },
  {
   "cell_type": "code",
   "execution_count": 165,
   "metadata": {},
   "outputs": [
    {
     "data": {
      "text/plain": [
       "{'time': '2025-03-17T09:30',\n",
       " 'interval': 900,\n",
       " 'temperature_2m': 31.9,\n",
       " 'wind_speed_10m': 12.8}"
      ]
     },
     "execution_count": 165,
     "metadata": {},
     "output_type": "execute_result"
    }
   ],
   "source": [
    "output"
   ]
  },
  {
   "cell_type": "code",
   "execution_count": null,
   "metadata": {},
   "outputs": [],
   "source": []
  },
  {
   "cell_type": "markdown",
   "metadata": {},
   "source": [
    "## Final Code"
   ]
  },
  {
   "cell_type": "code",
   "execution_count": 168,
   "metadata": {},
   "outputs": [
    {
     "data": {
      "text/plain": [
       "{'time': '2025-03-17T09:30',\n",
       " 'interval': 900,\n",
       " 'temperature_2m': 31.9,\n",
       " 'wind_speed_10m': 12.8}"
      ]
     },
     "execution_count": 168,
     "metadata": {},
     "output_type": "execute_result"
    }
   ],
   "source": [
    "from pydantic import BaseModel, Field\n",
    "from typing import Dict, Any, Optional\n",
    "import json\n",
    "\n",
    "from langchain_core.output_parsers import JsonOutputParser\n",
    "from langchain_core.prompts import PromptTemplate\n",
    "from langchain_core.pydantic_v1 import BaseModel, Field\n",
    "\n",
    "def get_weather(latitude, longitude):\n",
    "    \"\"\"This is a publically available API that returns the weather for a given location.\"\"\"\n",
    "    response = requests.get(\n",
    "        f\"https://api.open-meteo.com/v1/forecast?latitude={latitude}&longitude={longitude}&current=temperature_2m,wind_speed_10m&hourly=temperature_2m,relative_humidity_2m,wind_speed_10m\"\n",
    "    )\n",
    "    data = response.json()\n",
    "    return data[\"current\"]\n",
    "\n",
    "def summation(number1, number2):\n",
    "    return sum([number1, number2])\n",
    "\n",
    "tools = {\n",
    "    \"get_weather\": {\n",
    "        \"function\": get_weather,\n",
    "        \"description\": \"Returns weather details for a given latitude and longitude.\",\n",
    "        \"parameters\": [\"latitude\", \"longitude\"]\n",
    "    },\n",
    "\n",
    "    \"summation\": {\n",
    "        \"function\": summation,\n",
    "        \"description\": \"Returns the sum of two numbers.\",\n",
    "        \"parameters\": [\"number1\", \"number2\"]\n",
    "    }\n",
    "    \n",
    "}\n",
    "\n",
    "class ToolCallResponse(BaseModel):\n",
    "    use_tool: bool = Field(..., description=\"Indicates if a function call is required\")\n",
    "    response: Optional[str] = Field(None, description=\"Assistant's direct response if no tool is required\")\n",
    "    function: Optional[str] = Field(None, description=\"Function name to call if needed\")\n",
    "    args: Optional[Dict[str, Any]] = Field(None, description=\"Arguments for the function call\")\n",
    "    \n",
    "\n",
    "# Set up a parser + inject instructions into the prompt template.\n",
    "parser = JsonOutputParser(pydantic_object=ToolCallResponse)\n",
    "\n",
    "def get_output(llm, input_text, tools):\n",
    "    tools_json = json.dumps({k: v[\"description\"] for k, v in tools.items()}, indent=2)\n",
    "    arguments = {k: v[\"parameters\"] for k, v in tools.items()}\n",
    "    \n",
    "    template = \"\"\"\n",
    "    You are a helpful assistant. Determine if the user's question requires a function call only when needed.\n",
    "    Apply your knowledge and try to find the parameters required for the function.\n",
    "\n",
    "    input_text: {input_text}\n",
    "    Available tools: {tools}\n",
    "    parameters required for functions:{args}\n",
    "    \n",
    "    {format_instructions}\n",
    "    \"\"\"\n",
    "\n",
    "    prompt = PromptTemplate(\n",
    "        template=template,\n",
    "        input_variables=[\"input_text\", \"tools\", \"args\"],\n",
    "        partial_variables={\"format_instructions\": parser.get_format_instructions()},\n",
    "    )\n",
    "\n",
    "    chain = prompt | llm | parser    \n",
    "    a = chain.invoke({\"input_text\": input_text, \"tools\": tools_json, \"args\": arguments})\n",
    "\n",
    "    function = tools[a[\"function\"]][\"function\"]\n",
    "    args = a[\"args\"]\n",
    "    output = function(**args)\n",
    "\n",
    "    return output\n",
    "\n",
    "get_output(llm, \"what is the currend whether in mumbai\", tools)"
   ]
  },
  {
   "cell_type": "code",
   "execution_count": 32,
   "metadata": {},
   "outputs": [
    {
     "name": "stdout",
     "output_type": "stream",
     "text": [
      "{'response': 'AI is a fascinating field that involves machine learning and deep learning.'}\n"
     ]
    }
   ],
   "source": [
    "\n",
    "print(get_output(llm, \"Who is the PM of india\", tools))\n"
   ]
  },
  {
   "cell_type": "code",
   "execution_count": null,
   "metadata": {},
   "outputs": [],
   "source": []
  },
  {
   "cell_type": "code",
   "execution_count": null,
   "metadata": {},
   "outputs": [],
   "source": []
  },
  {
   "cell_type": "code",
   "execution_count": null,
   "metadata": {},
   "outputs": [],
   "source": []
  },
  {
   "cell_type": "code",
   "execution_count": null,
   "metadata": {},
   "outputs": [],
   "source": []
  }
 ],
 "metadata": {
  "kernelspec": {
   "display_name": "Python 3",
   "language": "python",
   "name": "python3"
  },
  "language_info": {
   "codemirror_mode": {
    "name": "ipython",
    "version": 3
   },
   "file_extension": ".py",
   "mimetype": "text/x-python",
   "name": "python",
   "nbconvert_exporter": "python",
   "pygments_lexer": "ipython3",
   "version": "3.11.9"
  }
 },
 "nbformat": 4,
 "nbformat_minor": 2
}
